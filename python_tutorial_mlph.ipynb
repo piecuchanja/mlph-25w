{
 "cells": [
  {
   "cell_type": "markdown",
   "metadata": {},
   "source": [
    "# Python Tutorial for ML and Physics\n",
    "This tutorial is largely based on a tutorial by Lorenzo Cerrone and has been modified slightly by Peter Lippmann.\n",
    "\n",
    "Ressources\n",
    " - http://www.scipy.org/topical-software.html\n",
    "\n",
    "\n",
    " Pro: \n",
    " - efficient language: get stuff done with few lines \n",
    " - readable \n",
    " - popular in the scientific community\n",
    " - modules offer advanced algebraic, graphics, ... capabilities \n",
    " - dynamically typed \n",
    " - automatic memory management\n",
    " - open source, free \n",
    "\n",
    "\n",
    " Contra: \n",
    " - speed\n",
    " - many independent developers, thus heterogeneous modules and conventions\n",
    " - dynamically typed \n",
    " - little used in mobile computing "
   ]
  },
  {
   "cell_type": "code",
   "execution_count": 57,
   "metadata": {},
   "outputs": [
    {
     "name": "stdout",
     "output_type": "stream",
     "text": [
      "Hello World\n"
     ]
    }
   ],
   "source": [
    "print(\"Hello World\")"
   ]
  },
  {
   "cell_type": "markdown",
   "metadata": {},
   "source": [
    "## Basics of Jupyter"
   ]
  },
  {
   "cell_type": "markdown",
   "metadata": {},
   "source": [
    "### shortcuts\n",
    "- `ctrl + enter` or `shift + enter`: run code in a cell or run and go down one cell\n",
    "- `ctrl + s`: save\n",
    "\n",
    "### magics\n",
    "- `[something]?`: shows the documentation of `[something]`\n",
    "- `%timeit`, `%time`: to check the run time of a line\n",
    "- `%%timeit`, `%%time`: to check the run time of a cell\n",
    "- `%load_ext autoreload; %autoreload 2`: if you want to work on a local file "
   ]
  },
  {
   "cell_type": "markdown",
   "metadata": {},
   "source": [
    "# Data Types"
   ]
  },
  {
   "cell_type": "markdown",
   "metadata": {},
   "source": [
    "## Numbers"
   ]
  },
  {
   "cell_type": "code",
   "execution_count": 58,
   "metadata": {},
   "outputs": [
    {
     "data": {
      "text/plain": [
       "((1+5j), 1j)"
      ]
     },
     "execution_count": 58,
     "metadata": {},
     "output_type": "execute_result"
    }
   ],
   "source": [
    "True, False                      # bool\n",
    "10, 10_000, int('10')            # integers\n",
    "10., 1e-4, float('1.3')          # floats (default is float64)\n",
    "1 + 5j, complex(0, 1)            # complex"
   ]
  },
  {
   "cell_type": "code",
   "execution_count": 59,
   "metadata": {},
   "outputs": [
    {
     "name": "stdout",
     "output_type": "stream",
     "text": [
      "<class 'int'>\n",
      "<class 'float'>\n"
     ]
    }
   ],
   "source": [
    "a = 10\n",
    "print(type(a))\n",
    "a = float(a)\n",
    "print(type(a))"
   ]
  },
  {
   "cell_type": "markdown",
   "metadata": {},
   "source": [
    "## Strings"
   ]
  },
  {
   "cell_type": "code",
   "execution_count": 60,
   "metadata": {},
   "outputs": [
    {
     "data": {
      "text/plain": [
       "('this is a string', \"this is also a 'string'\")"
      ]
     },
     "execution_count": 60,
     "metadata": {},
     "output_type": "execute_result"
    }
   ],
   "source": [
    "'this is a string', \"this is also a 'string'\""
   ]
  },
  {
   "cell_type": "code",
   "execution_count": 61,
   "metadata": {},
   "outputs": [
    {
     "name": "stdout",
     "output_type": "stream",
     "text": [
      "b is  1.7\n"
     ]
    }
   ],
   "source": [
    "b = 10/6\n",
    "print(f'b is {b: .1f}')"
   ]
  },
  {
   "cell_type": "markdown",
   "metadata": {},
   "source": [
    "## Lists"
   ]
  },
  {
   "cell_type": "code",
   "execution_count": 62,
   "metadata": {},
   "outputs": [
    {
     "data": {
      "text/plain": [
       "([1, 2, 3], ['a', 'b', 1], [[1, 0], [0, 1, 1]])"
      ]
     },
     "execution_count": 62,
     "metadata": {},
     "output_type": "execute_result"
    }
   ],
   "source": [
    "[1, 2, 3], ['a', 'b', 1], [ [1, 0], [0, 1, 1] ]"
   ]
  },
  {
   "cell_type": "code",
   "execution_count": 63,
   "metadata": {},
   "outputs": [
    {
     "data": {
      "text/plain": [
       "['a', 2, 1, 3, 4]"
      ]
     },
     "execution_count": 63,
     "metadata": {},
     "output_type": "execute_result"
    }
   ],
   "source": [
    "a = ['a', 2, 1]\n",
    "a + [3, 4]\n",
    "#a.remove(1)\n",
    "# a.append(5)"
   ]
  },
  {
   "cell_type": "markdown",
   "metadata": {},
   "source": [
    "## Dictionaries"
   ]
  },
  {
   "cell_type": "code",
   "execution_count": 64,
   "metadata": {},
   "outputs": [
    {
     "data": {
      "text/plain": [
       "({'a': 1, 'b': [0, 0, 1]}, {'a': 1, 'b': [0, 0, 0]})"
      ]
     },
     "execution_count": 64,
     "metadata": {},
     "output_type": "execute_result"
    }
   ],
   "source": [
    "{'a': 1, 'b': [0, 0, 1]}, dict(a=1, b=[0, 0, 0])"
   ]
  },
  {
   "cell_type": "code",
   "execution_count": 65,
   "metadata": {},
   "outputs": [
    {
     "data": {
      "text/plain": [
       "{'a': 0, 'b': 2, 'c': 1}"
      ]
     },
     "execution_count": 65,
     "metadata": {},
     "output_type": "execute_result"
    }
   ],
   "source": [
    "a = {'a': 1, 'b': 2}\n",
    "a.update({'c': 1, 'a': 0})\n",
    "a"
   ]
  },
  {
   "cell_type": "markdown",
   "metadata": {},
   "source": [
    "## Sets and Tuples"
   ]
  },
  {
   "cell_type": "code",
   "execution_count": 66,
   "metadata": {},
   "outputs": [
    {
     "name": "stdout",
     "output_type": "stream",
     "text": [
      "{1, 2, 3}\n"
     ]
    }
   ],
   "source": [
    "{1, 2, 2, 2, 1, 3}, (1, 2, 3)\n",
    "\n",
    "a = {1, 2, 2, 3}\n",
    "b = {2, 3}\n",
    "a.union(b)\n",
    "print(a)\n",
    "#a = (1, 2, 3)"
   ]
  },
  {
   "cell_type": "markdown",
   "metadata": {},
   "source": [
    "# Operations"
   ]
  },
  {
   "cell_type": "markdown",
   "metadata": {},
   "source": [
    "## Number arithmetic"
   ]
  },
  {
   "cell_type": "code",
   "execution_count": 67,
   "metadata": {},
   "outputs": [
    {
     "data": {
      "text/plain": [
       "(4, 8, 12, 49, 2.5, 2, 1)"
      ]
     },
     "execution_count": 67,
     "metadata": {},
     "output_type": "execute_result"
    }
   ],
   "source": [
    "2 + 2, 9 - 1, 3*4, 7 ** 2, 5/2, 5//2, 5%2\n",
    "\n",
    "# 5%2 ergibt den Rest der Division 5//2"
   ]
  },
  {
   "cell_type": "markdown",
   "metadata": {},
   "source": [
    "## Logical"
   ]
  },
  {
   "cell_type": "code",
   "execution_count": 68,
   "metadata": {},
   "outputs": [
    {
     "data": {
      "text/plain": [
       "(False, False)"
      ]
     },
     "execution_count": 68,
     "metadata": {},
     "output_type": "execute_result"
    }
   ],
   "source": [
    "1 == 1, 2 > 1, 1 >= 1                       # all true\n",
    "1 == 1 and True, True or False, not False   # all true\n",
    "1 != 1, 1 < 1 < 2                           # all false"
   ]
  },
  {
   "cell_type": "code",
   "execution_count": 69,
   "metadata": {},
   "outputs": [
    {
     "data": {
      "text/plain": [
       "False"
      ]
     },
     "execution_count": 69,
     "metadata": {},
     "output_type": "execute_result"
    }
   ],
   "source": [
    "1 < 1 and 1 < 3 #geht auch aber ist lange version"
   ]
  },
  {
   "cell_type": "markdown",
   "metadata": {},
   "source": [
    "# Controll flows"
   ]
  },
  {
   "cell_type": "markdown",
   "metadata": {},
   "source": [
    "## If statement"
   ]
  },
  {
   "cell_type": "code",
   "execution_count": 70,
   "metadata": {},
   "outputs": [
    {
     "name": "stdout",
     "output_type": "stream",
     "text": [
      "1 in ..\n"
     ]
    }
   ],
   "source": [
    "if 1 > 2:\n",
    "    print('1 > 2')\n",
    "    \n",
    "elif 1 in [1, 2, 3]:\n",
    "    print('1 in ..')\n",
    "    \n",
    "elif 1 not in [1, 2, 3]:\n",
    "    print('1 not in ..')\n",
    "    \n",
    "else:\n",
    "    print('False')"
   ]
  },
  {
   "cell_type": "code",
   "execution_count": 71,
   "metadata": {},
   "outputs": [
    {
     "name": "stdout",
     "output_type": "stream",
     "text": [
      "[1, 2, 3]\n"
     ]
    }
   ],
   "source": [
    "a = [1, 2, 3]\n",
    "\n",
    "if isinstance(a, list): #isinstance prüft ob a eine liste ist\n",
    "    print(a)"
   ]
  },
  {
   "cell_type": "markdown",
   "metadata": {},
   "source": [
    "## For loops"
   ]
  },
  {
   "cell_type": "code",
   "execution_count": 72,
   "metadata": {},
   "outputs": [
    {
     "name": "stdout",
     "output_type": "stream",
     "text": [
      "1\n",
      "3\n",
      "5\n",
      "a 1\n",
      "b 2\n",
      "c 3\n"
     ]
    }
   ],
   "source": [
    "for i in range(1, 6, 2):\n",
    "    print(i)\n",
    "    \n",
    "[i for i in range(5)]\n",
    "{i: i**2 for i in range(5)}\n",
    "\n",
    "a = ['a', 'b', 'c']\n",
    "b = [1, 2, 3]\n",
    "for value_a, value_b in zip(a, b):\n",
    "    print(value_a, value_b)\n"
   ]
  },
  {
   "cell_type": "code",
   "execution_count": 73,
   "metadata": {},
   "outputs": [
    {
     "name": "stdout",
     "output_type": "stream",
     "text": [
      "1\n",
      "1\n",
      "2\n",
      "4\n",
      "3\n",
      "9\n",
      "\n",
      "\n",
      "1\n",
      "2\n",
      "3\n",
      "9\n"
     ]
    }
   ],
   "source": [
    "# indentation matters:\n",
    "for i in (1, 2, 3): \n",
    "    print(i)\n",
    "    print(i**2) # exponentiation\n",
    "\n",
    "print('\\n')\n",
    "for i in (1, 2, 3): \n",
    "    print(i)\n",
    "print(i**2) # exponentiation"
   ]
  },
  {
   "cell_type": "markdown",
   "metadata": {},
   "source": [
    "## List comprehension"
   ]
  },
  {
   "cell_type": "code",
   "execution_count": 74,
   "metadata": {},
   "outputs": [
    {
     "name": "stdout",
     "output_type": "stream",
     "text": [
      "[0, 2, 4]\n",
      "[3, 4]\n"
     ]
    }
   ],
   "source": [
    "print([a for a in range(5) if a % 2 == 0])\n",
    "\n",
    "a = []\n",
    "for i in range(5):\n",
    "    if i > 2:\n",
    "        a.append(i)\n",
    "        \n",
    "print(a)"
   ]
  },
  {
   "cell_type": "markdown",
   "metadata": {},
   "source": [
    "## Functions and arguments unpacking"
   ]
  },
  {
   "cell_type": "code",
   "execution_count": 75,
   "metadata": {},
   "outputs": [],
   "source": [
    "a = 'global'\n",
    "def sum_two_numbers(*args, **kwargs):\n",
    "    ...\n",
    "    a = 'local'\n",
    "    print(a)\n",
    "    return sum(args)\n",
    "\n",
    "#hier gehts um den input der funktion, dass man auf args zugreifen kann und kwargs ignorieren kann, und dass a lokal in der funktion ist"
   ]
  },
  {
   "cell_type": "code",
   "execution_count": 76,
   "metadata": {},
   "outputs": [
    {
     "name": "stdout",
     "output_type": "stream",
     "text": [
      "local\n"
     ]
    },
    {
     "data": {
      "text/plain": [
       "19"
      ]
     },
     "execution_count": 76,
     "metadata": {},
     "output_type": "execute_result"
    }
   ],
   "source": [
    "sum_two_numbers(1, 2, 3, 6, 7, a=2, b=3)"
   ]
  },
  {
   "cell_type": "markdown",
   "metadata": {},
   "source": [
    "## Classes and name spaces"
   ]
  },
  {
   "cell_type": "code",
   "execution_count": 77,
   "metadata": {},
   "outputs": [
    {
     "data": {
      "text/plain": [
       "30"
      ]
     },
     "execution_count": 77,
     "metadata": {},
     "output_type": "execute_result"
    }
   ],
   "source": [
    "class Person:\n",
    "    def __init__(self, name: str = 'Bob', age: int = 18):\n",
    "        self.name = name\n",
    "        self.age = age\n",
    "        \n",
    "    def after_x_year(self, how_many_years) -> None: # -> None bedeutet dass die funktion nichts zurückgibt\n",
    "        x = 'inner test'\n",
    "        self.age += how_many_years\n",
    "        \n",
    "bob = Person(name='Bob', age=20)\n",
    "bob.after_x_year(10)\n",
    "bob.age"
   ]
  },
  {
   "cell_type": "markdown",
   "metadata": {},
   "source": [
    "# Advanced Topics"
   ]
  },
  {
   "cell_type": "markdown",
   "metadata": {},
   "source": [
    "## Decorators and higher order functions"
   ]
  },
  {
   "cell_type": "code",
   "execution_count": 78,
   "metadata": {},
   "outputs": [
    {
     "name": "stdout",
     "output_type": "stream",
     "text": [
      "time taken 0.0\n",
      "time taken 0.0\n",
      "0.0\n"
     ]
    }
   ],
   "source": [
    "import time\n",
    "\n",
    "#Decorators nehmen funktionen als input und geben eine neue funktion zurück\n",
    "def function_timer(function):\n",
    "    def new_function(*args, **kwarg):\n",
    "        timer = time.time()\n",
    "        result = function(*args, **kwarg)\n",
    "        print(\"time taken\", time.time() - timer)\n",
    "        return result\n",
    "    \n",
    "    return new_function\n",
    "\n",
    "@function_timer #decorator für die funktion darunter\n",
    "def sum_two_numbers(a, b):\n",
    "    return a + b\n",
    "\n",
    "# alternative:\n",
    "def old_function_timer(function, a, b):\n",
    "    timer = time.time()\n",
    "    function(a, b)\n",
    "    print(time.time() - timer)\n",
    "\n",
    "sum_two_numbers(1, 2) # how long does this take? \n",
    "old_function_timer(sum_two_numbers, 1, 2) #hier wird time taken noch einmal ausgegeben, weil die funktion ja schon decorated ist"
   ]
  },
  {
   "cell_type": "markdown",
   "metadata": {},
   "source": [
    "## Dunder (double underscore) Methods"
   ]
  },
  {
   "cell_type": "code",
   "execution_count": 79,
   "metadata": {},
   "outputs": [
    {
     "name": "stdout",
     "output_type": "stream",
     "text": [
      "position (x, y) (1, 1)\n",
      "position (x, y) (1, 1)\n"
     ]
    }
   ],
   "source": [
    "class Postion:\n",
    "    def __init__(self, x, y):\n",
    "        self.x = x\n",
    "        self.y = y\n",
    "        \n",
    "    def __repr__(self): #gibt eigentlich auch eine default __repr__ und __add__ methoden, aber wir können sie überschreiben\n",
    "        return f'position (x, y) {self.x, self.y}'\n",
    "        \n",
    "    def __add__(self, p): \n",
    "        return Postion(self.x + p.x, self.y + p.y)\n",
    "\n",
    "def add_positions(p1, p2):\n",
    "    return Postion(p1.x + p2.x, p1.y + p2.y)\n",
    "\n",
    "p1 = Postion(0, 1)\n",
    "p2 = Postion(1, 0)\n",
    "p3 = add_positions(p1, p2)\n",
    "print(p3)\n",
    "print(p1 + p2)"
   ]
  },
  {
   "cell_type": "markdown",
   "metadata": {},
   "source": [
    "# Inheritance and the super method"
   ]
  },
  {
   "cell_type": "code",
   "execution_count": 80,
   "metadata": {},
   "outputs": [],
   "source": [
    "class Pet:\n",
    "    def __init__(self, name: str, age: int):\n",
    "        self.name = name\n",
    "        self.age = age\n",
    "        \n",
    "    def __repr__(self):\n",
    "        return f'{self.name} is a {self.age} years old'\n",
    "    \n",
    "class Dog(Pet):\n",
    "    def __repr__(self):\n",
    "        return super().__repr__() + ' Dog'"
   ]
  },
  {
   "cell_type": "code",
   "execution_count": 81,
   "metadata": {},
   "outputs": [
    {
     "data": {
      "text/plain": [
       "Whisky is a 1 years old Dog"
      ]
     },
     "execution_count": 81,
     "metadata": {},
     "output_type": "execute_result"
    }
   ],
   "source": [
    "Dog('Whisky', age=1)"
   ]
  },
  {
   "cell_type": "markdown",
   "metadata": {},
   "source": [
    "# Numpy"
   ]
  },
  {
   "cell_type": "code",
   "execution_count": 82,
   "metadata": {},
   "outputs": [],
   "source": [
    "import numpy as np"
   ]
  },
  {
   "cell_type": "markdown",
   "metadata": {},
   "source": [
    "## arrays"
   ]
  },
  {
   "cell_type": "code",
   "execution_count": 83,
   "metadata": {},
   "outputs": [
    {
     "data": {
      "text/plain": [
       "array([[ 4.,  9., 16.],\n",
       "       [25., 36., 49.]])"
      ]
     },
     "execution_count": 83,
     "metadata": {},
     "output_type": "execute_result"
    }
   ],
   "source": [
    "x = np.array([1, 2, 3, 4, 5, 6.])\n",
    "\n",
    "# simple operations\n",
    "# x.shape, x.reshape, astype indexing\n",
    "x = x.reshape(2, 3)\n",
    "x.astype('int64')\n",
    "x.shape\n",
    "x.max(), x.min(), x.argmax()\n",
    "x.sum(), x.mean()\n",
    "(x + 1) ** 2"
   ]
  },
  {
   "cell_type": "markdown",
   "metadata": {},
   "source": [
    "## ufunc (universal functions) and functional style "
   ]
  },
  {
   "cell_type": "code",
   "execution_count": 84,
   "metadata": {},
   "outputs": [
    {
     "data": {
      "text/plain": [
       "[0, 1, 1]"
      ]
     },
     "execution_count": 84,
     "metadata": {},
     "output_type": "execute_result"
    }
   ],
   "source": [
    "a = [1, 1, 1]\n",
    "b = a\n",
    "b[0] = 0\n",
    "a"
   ]
  },
  {
   "cell_type": "code",
   "execution_count": 85,
   "metadata": {},
   "outputs": [
    {
     "data": {
      "text/plain": [
       "(array([1, 1, 1]), False)"
      ]
     },
     "execution_count": 85,
     "metadata": {},
     "output_type": "execute_result"
    }
   ],
   "source": [
    "x = np.array([1, 1, 1])\n",
    "y = x * 1 #diese operation erstellt eine neue variable, zeigen nicht auf das gleiche Objekt\n",
    "y[0] = 0\n",
    "x, x is y"
   ]
  },
  {
   "cell_type": "markdown",
   "metadata": {},
   "source": [
    "# when you need copy:"
   ]
  },
  {
   "cell_type": "code",
   "execution_count": 86,
   "metadata": {},
   "outputs": [
    {
     "name": "stdout",
     "output_type": "stream",
     "text": [
      "[0 2 3]\n",
      "[1 2 3]\n"
     ]
    }
   ],
   "source": [
    "x = np.array([1, 2, 3])\n",
    "y = x \n",
    "\n",
    "x[0] = 0\n",
    "print(y)  # y changed as well\n",
    "\n",
    "x = np.array([1, 2, 3])\n",
    "y = x.copy() #erstellt eine neue Kopie von x\n",
    "\n",
    "x[0] = 0\n",
    "print(y)  # y did not change"
   ]
  },
  {
   "cell_type": "markdown",
   "metadata": {},
   "source": [
    "## there are a lot more ufunc"
   ]
  },
  {
   "cell_type": "code",
   "execution_count": 87,
   "metadata": {},
   "outputs": [
    {
     "data": {
      "text/plain": [
       "array([0.24740396, 0.47942554, 0.68163876])"
      ]
     },
     "execution_count": 87,
     "metadata": {},
     "output_type": "execute_result"
    }
   ],
   "source": [
    "x = np.array([0.25, 0.5, 0.75])\n",
    "# np.sin, np.log, np.sum, \n",
    "np.sin(x, out=x) # if you can avoid it "
   ]
  },
  {
   "cell_type": "markdown",
   "metadata": {},
   "source": [
    "## arrays initialization"
   ]
  },
  {
   "cell_type": "code",
   "execution_count": 88,
   "metadata": {},
   "outputs": [
    {
     "data": {
      "text/plain": [
       "(array([[11, 11],\n",
       "        [11, 11]]),\n",
       " array([[1., 1., 1., 1., 1., 1., 1., 1., 1., 1.],\n",
       "        [1., 1., 1., 1., 1., 1., 1., 1., 1., 1.],\n",
       "        [1., 1., 1., 1., 1., 1., 1., 1., 1., 1.],\n",
       "        [1., 1., 1., 1., 1., 1., 1., 1., 1., 1.],\n",
       "        [1., 1., 1., 1., 1., 1., 1., 1., 1., 1.],\n",
       "        [1., 1., 1., 1., 1., 1., 1., 1., 1., 1.],\n",
       "        [1., 1., 1., 1., 1., 1., 1., 1., 1., 1.],\n",
       "        [1., 1., 1., 1., 1., 1., 1., 1., 1., 1.],\n",
       "        [1., 1., 1., 1., 1., 1., 1., 1., 1., 1.],\n",
       "        [1., 1., 1., 1., 1., 1., 1., 1., 1., 1.]]))"
      ]
     },
     "execution_count": 88,
     "metadata": {},
     "output_type": "execute_result"
    }
   ],
   "source": [
    "x = np.zeros((10, 10))\n",
    "np.full((2, 2), 11), np.ones_like(x)"
   ]
  },
  {
   "cell_type": "markdown",
   "metadata": {},
   "source": [
    "# random numbers"
   ]
  },
  {
   "cell_type": "code",
   "execution_count": 89,
   "metadata": {},
   "outputs": [
    {
     "data": {
      "text/plain": [
       "array(['b', 'a'], dtype='<U1')"
      ]
     },
     "execution_count": 89,
     "metadata": {},
     "output_type": "execute_result"
    }
   ],
   "source": [
    "np.random.rand() # uniform 0-1\n",
    "np.random.randn() # gaussian dist. mean 0 std 1\n",
    "np.random.randint(0, 3) #random integer between 0 and 3\n",
    "\n",
    "np.random.rand(10, 10).shape\n",
    "np.random.randint(3, size=(10, 10))\n",
    "list_x = ['a', 'b', 'c']\n",
    "np.random.choice(list_x, size=2, replace=False)"
   ]
  },
  {
   "cell_type": "markdown",
   "metadata": {},
   "source": [
    "## array - array operations"
   ]
  },
  {
   "cell_type": "code",
   "execution_count": 90,
   "metadata": {},
   "outputs": [
    {
     "data": {
      "text/plain": [
       "(np.float64(0.6182762143925221),\n",
       " np.float64(0.6182762143925221),\n",
       " np.float64(0.6182762143925221),\n",
       " np.float64(0.6182762143925221))"
      ]
     },
     "execution_count": 90,
     "metadata": {},
     "output_type": "execute_result"
    }
   ],
   "source": [
    "x = np.random.rand(3)\n",
    "y = np.random.rand(3)\n",
    "# np.dot(x, y), x.dot(y), np.sum(x * y)\n",
    "# x * y #element wise\n",
    "np.dot(x, y), x.dot(y), x @ y, np.sum(x * y)"
   ]
  },
  {
   "cell_type": "code",
   "execution_count": 91,
   "metadata": {},
   "outputs": [
    {
     "name": "stdout",
     "output_type": "stream",
     "text": [
      "[[0. 0. 0.]\n",
      " [1. 1. 1.]\n",
      " [1. 1. 1.]]\n"
     ]
    },
    {
     "data": {
      "text/plain": [
       "(array([2., 2., 2.]), array([0., 3., 3.]))"
      ]
     },
     "execution_count": 91,
     "metadata": {},
     "output_type": "execute_result"
    }
   ],
   "source": [
    "x = np.ones((3, 3))\n",
    "#np.sum(x, axis=1)\n",
    "x[0, :] = 0\n",
    "print(x)\n",
    "np.sum(x, axis=0), np.sum(x, axis=1) # axis 0 = summiere die spalte, axis 1 = summiere die reihen"
   ]
  },
  {
   "cell_type": "code",
   "execution_count": 92,
   "metadata": {},
   "outputs": [
    {
     "data": {
      "text/plain": [
       "(1, 10, 1)"
      ]
     },
     "execution_count": 92,
     "metadata": {},
     "output_type": "execute_result"
    }
   ],
   "source": [
    "x = np.zeros(10)\n",
    "x[None, :, np.newaxis].shape"
   ]
  },
  {
   "cell_type": "markdown",
   "metadata": {},
   "source": [
    "## broadcasting example distance between array an point"
   ]
  },
  {
   "cell_type": "code",
   "execution_count": 93,
   "metadata": {},
   "outputs": [
    {
     "data": {
      "text/plain": [
       "array([0.70505375, 0.74122017, 0.61219793, 0.43850736, 0.49814226,\n",
       "       0.99345872, 0.61445369, 0.57163137, 0.32762815, 0.36748558])"
      ]
     },
     "execution_count": 93,
     "metadata": {},
     "output_type": "execute_result"
    }
   ],
   "source": [
    "x = np.random.rand(10, 3) # shape (10, 3)\n",
    "x0 = np.random.rand(3) # shape (3, )\n",
    "np.sqrt(np.sum((x - x0)**2, axis=1)) # l2 distance "
   ]
  },
  {
   "cell_type": "markdown",
   "metadata": {},
   "source": [
    "for more info https://numpy.org/doc/stable/user/basics.broadcasting.html"
   ]
  },
  {
   "cell_type": "markdown",
   "metadata": {},
   "source": [
    "## advanced indexing and masking"
   ]
  },
  {
   "cell_type": "code",
   "execution_count": 94,
   "metadata": {},
   "outputs": [
    {
     "name": "stdout",
     "output_type": "stream",
     "text": [
      "[0.28096371 0.75146857 0.13594955 0.98034145 0.78339804 0.19776072\n",
      " 0.22551634 0.99162206 0.72823099 0.87310053]\n",
      "[False  True False  True  True False False  True  True  True]\n"
     ]
    },
    {
     "data": {
      "text/plain": [
       "array([0.75146857, 0.98034145, 0.78339804, 0.99162206, 0.72823099,\n",
       "       0.87310053])"
      ]
     },
     "execution_count": 94,
     "metadata": {},
     "output_type": "execute_result"
    }
   ],
   "source": [
    "x  = np.random.rand(10)\n",
    "print(x)\n",
    "mask = x > 0.5\n",
    "print(mask)\n",
    "x[mask]"
   ]
  },
  {
   "cell_type": "code",
   "execution_count": 95,
   "metadata": {},
   "outputs": [
    {
     "data": {
      "text/plain": [
       "array([0, 1, 0, 1, 1, 0, 0, 1, 1, 1])"
      ]
     },
     "execution_count": 95,
     "metadata": {},
     "output_type": "execute_result"
    }
   ],
   "source": [
    "# np.where\n",
    "np.where(x > 0.5, 1, 0)"
   ]
  },
  {
   "cell_type": "code",
   "execution_count": 96,
   "metadata": {},
   "outputs": [
    {
     "data": {
      "text/plain": [
       "array([0.28096371, 0.75146857, 0.13594955])"
      ]
     },
     "execution_count": 96,
     "metadata": {},
     "output_type": "execute_result"
    }
   ],
   "source": [
    "x[[0, 1, 2]]"
   ]
  },
  {
   "cell_type": "markdown",
   "metadata": {},
   "source": [
    "## numpy linlang"
   ]
  },
  {
   "cell_type": "code",
   "execution_count": 97,
   "metadata": {},
   "outputs": [],
   "source": [
    "matrix = np.random.rand(3, 3)"
   ]
  },
  {
   "cell_type": "code",
   "execution_count": 98,
   "metadata": {},
   "outputs": [
    {
     "name": "stdout",
     "output_type": "stream",
     "text": [
      "[1.68240614+0.j         0.0080198 +0.21152947j 0.0080198 -0.21152947j]\n",
      "[[ 0.78799361+0.j         -0.41528863-0.26112085j -0.41528863+0.26112085j]\n",
      " [ 0.51220971+0.j         -0.04813766+0.2208416j  -0.04813766-0.2208416j ]\n",
      " [ 0.34162447+0.j          0.84158363+0.j          0.84158363-0.j        ]]\n"
     ]
    }
   ],
   "source": [
    "eig, eigvectors = np.linalg.eig(matrix)\n",
    "print(eig)\n",
    "print(eigvectors)"
   ]
  },
  {
   "cell_type": "code",
   "execution_count": 99,
   "metadata": {},
   "outputs": [
    {
     "data": {
      "text/plain": [
       "array([[ -2.27651921,   5.97381465,  -2.33469892],\n",
       "       [ -0.477875  ,   0.64292852,   1.0294898 ],\n",
       "       [  6.12366362, -10.74905114,   2.58593198]])"
      ]
     },
     "execution_count": 99,
     "metadata": {},
     "output_type": "execute_result"
    }
   ],
   "source": [
    "np.linalg.inv(matrix)"
   ]
  },
  {
   "cell_type": "code",
   "execution_count": 100,
   "metadata": {},
   "outputs": [
    {
     "data": {
      "text/plain": [
       "array([[ 1.00000000e+00,  7.11949198e-17,  4.06780881e-16],\n",
       "       [ 1.49903682e-17,  1.00000000e+00,  4.40457861e-17],\n",
       "       [-1.40673866e-16, -1.75514785e-16,  1.00000000e+00]])"
      ]
     },
     "execution_count": 100,
     "metadata": {},
     "output_type": "execute_result"
    }
   ],
   "source": [
    "np.matmul(np.linalg.inv(matrix), matrix) # should be identity matrix, aber abweichungen durch rundungsfehler"
   ]
  },
  {
   "cell_type": "code",
   "execution_count": 101,
   "metadata": {},
   "outputs": [
    {
     "data": {
      "text/plain": [
       "SVDResult(U=array([[-0.7455516 ,  0.4884413 ,  0.45340699],\n",
       "       [-0.50948991,  0.02084309, -0.86022415],\n",
       "       [-0.42961941, -0.87234779,  0.23331632]]), S=array([1.7437457 , 0.61871032, 0.06987566]), Vh=array([[-0.59863454, -0.72116774, -0.34864563],\n",
       "       [ 0.64917324, -0.6917716 ,  0.31626912],\n",
       "       [-0.46926624, -0.0370018 ,  0.88228117]]))"
      ]
     },
     "execution_count": 101,
     "metadata": {},
     "output_type": "execute_result"
    }
   ],
   "source": [
    "np.linalg.svd(matrix) #Singular Value Decomposition"
   ]
  },
  {
   "cell_type": "markdown",
   "metadata": {},
   "source": [
    "# numpy i/o"
   ]
  },
  {
   "cell_type": "code",
   "execution_count": 102,
   "metadata": {},
   "outputs": [
    {
     "data": {
      "text/plain": [
       "array([[0.95957145, 0.72732764, 0.57678781],\n",
       "       [0.56841803, 0.63400362, 0.2607898 ],\n",
       "       [0.09043611, 0.91302769, 0.10487066]])"
      ]
     },
     "execution_count": 102,
     "metadata": {},
     "output_type": "execute_result"
    }
   ],
   "source": [
    "np.save('test.npy', matrix)\n",
    "np.load('test.npy')"
   ]
  },
  {
   "cell_type": "markdown",
   "metadata": {},
   "source": [
    "# Matplotlib"
   ]
  },
  {
   "cell_type": "code",
   "execution_count": 103,
   "metadata": {},
   "outputs": [],
   "source": [
    "import matplotlib.pyplot as plt"
   ]
  },
  {
   "cell_type": "code",
   "execution_count": 104,
   "metadata": {},
   "outputs": [],
   "source": [
    "x = np.arange(0, 12, 0.1)\n",
    "y = np.sin(x)"
   ]
  },
  {
   "cell_type": "code",
   "execution_count": 105,
   "metadata": {},
   "outputs": [
    {
     "data": {
      "image/png": "[encoded data removed]",
      "text/plain": [
       "<Figure size 1000x500 with 1 Axes>"
      ]
     },
     "metadata": {},
     "output_type": "display_data"
    }
   ],
   "source": [
    "plt.figure(figsize=(10, 5))\n",
    "\n",
    "plt.plot(x, y, c=np.random.rand(3), label='line')\n",
    "plt.scatter(x[::10], y[::10], label='scatter')\n",
    "plt.legend()\n",
    "plt.xlabel('x')\n",
    "plt.ylabel('sin(x)')\n",
    "plt.show()"
   ]
  },
  {
   "cell_type": "code",
   "execution_count": 106,
   "metadata": {},
   "outputs": [
    {
     "data": {
      "text/plain": [
       "Text(0.5, 0, 'x')"
      ]
     },
     "execution_count": 106,
     "metadata": {},
     "output_type": "execute_result"
    },
    {
     "data": {
      "image/png": "[encoded data removed]",
      "text/plain": [
       "<Figure size 640x480 with 2 Axes>"
      ]
     },
     "metadata": {},
     "output_type": "display_data"
    }
   ],
   "source": [
    "fig, axes = plt.subplots(1, 2)\n",
    "axes[0].plot(x, y)\n",
    "axes[1].plot(x, np.cos(x))\n",
    "axes[1].set_xlabel('x')\n"
   ]
  },
  {
   "cell_type": "code",
   "execution_count": 107,
   "metadata": {},
   "outputs": [
    {
     "data": {
      "text/plain": [
       "array([<Axes: >, <Axes: xlabel='x'>], dtype=object)"
      ]
     },
     "execution_count": 107,
     "metadata": {},
     "output_type": "execute_result"
    }
   ],
   "source": [
    "axes"
   ]
  },
  {
   "cell_type": "code",
   "execution_count": 108,
   "metadata": {},
   "outputs": [
    {
     "data": {
      "text/plain": [
       "(200, 200)"
      ]
     },
     "execution_count": 108,
     "metadata": {},
     "output_type": "execute_result"
    }
   ],
   "source": [
    "x, y = np.arange(-1, 1, 0.01), np.arange(-1, 1, 0.01)\n",
    "\n",
    "\"\"\"\n",
    "(-1, -1)......(-1, 1)\n",
    ".\n",
    ".\n",
    ".\n",
    "(1, -1) .......(1, 1)\n",
    "\"\"\"\n",
    "\n",
    "xx, yy = np.meshgrid(x, y) ##xx beinhaltet die x werte als matrix, yy die y werte als matrix\n",
    "zz = np.exp(- (xx)**2 - (yy)**2) \n",
    "zz.shape"
   ]
  },
  {
   "cell_type": "code",
   "execution_count": 109,
   "metadata": {},
   "outputs": [
    {
     "data": {
      "text/plain": [
       "<matplotlib.colorbar.Colorbar at 0x1639a616850>"
      ]
     },
     "execution_count": 109,
     "metadata": {},
     "output_type": "execute_result"
    },
    {
     "data": {
      "image/png": "[encoded data removed]",
      "text/plain": [
       "<Figure size 640x480 with 2 Axes>"
      ]
     },
     "metadata": {},
     "output_type": "display_data"
    }
   ],
   "source": [
    "plt.imshow(zz, cmap='gray')\n",
    "plt.colorbar()"
   ]
  },
  {
   "cell_type": "markdown",
   "metadata": {},
   "source": [
    "https://matplotlib.org/devdocs/gallery/index.html"
   ]
  },
  {
   "cell_type": "markdown",
   "metadata": {},
   "source": [
    "# Scipy\n",
    "\n",
    "just too much to give an overview\n",
    "https://scipy.github.io/devdocs/reference/cluster.html"
   ]
  },
  {
   "cell_type": "markdown",
   "metadata": {},
   "source": [
    "## Scipy Example ODE\n",
    "\n",
    "$\\frac{d}{dt} x = - x^2 + 3$"
   ]
  },
  {
   "cell_type": "code",
   "execution_count": 110,
   "metadata": {},
   "outputs": [
    {
     "data": {
      "text/plain": [
       "[<matplotlib.lines.Line2D at 0x163a8f1ce10>]"
      ]
     },
     "execution_count": 110,
     "metadata": {},
     "output_type": "execute_result"
    },
    {
     "data": {
      "image/png": "[encoded data removed]",
      "text/plain": [
       "<Figure size 640x480 with 1 Axes>"
      ]
     },
     "metadata": {},
     "output_type": "display_data"
    }
   ],
   "source": [
    "from scipy.integrate import odeint\n",
    "\n",
    "def dx_dt(x, _):\n",
    "    return - x**2 + 3\n",
    "\n",
    "y_t = odeint(dx_dt, y0=1, t=np.arange(0, 3, 0.01))\n",
    "\n",
    "plt.plot(np.arange(0, 3, 0.01), y_t)"
   ]
  },
  {
   "cell_type": "markdown",
   "metadata": {},
   "source": [
    "## Scipy example convolutions"
   ]
  },
  {
   "cell_type": "code",
   "execution_count": 111,
   "metadata": {},
   "outputs": [
    {
     "data": {
      "image/png": "[encoded data removed]",
      "text/plain": [
       "<Figure size 640x480 with 1 Axes>"
      ]
     },
     "metadata": {},
     "output_type": "display_data"
    },
    {
     "data": {
      "text/plain": [
       "<matplotlib.image.AxesImage at 0x163aa235790>"
      ]
     },
     "execution_count": 111,
     "metadata": {},
     "output_type": "execute_result"
    },
    {
     "data": {
      "image/png": "[encoded data removed]",
      "text/plain": [
       "<Figure size 640x480 with 1 Axes>"
      ]
     },
     "metadata": {},
     "output_type": "display_data"
    }
   ],
   "source": [
    "from scipy.ndimage import convolve\n",
    "\n",
    "image = np.zeros((50, 50))\n",
    "image[20:-20, 20:-20] = 1 #set square in center to one\n",
    "image += np.random.rand(*image.shape) * 0.2 # add noise\n",
    "plt.imshow(image)\n",
    "plt.show()\n",
    "\n",
    "\n",
    "smoothing_filter = np.ones((3, 3)) / 9\n",
    "smooth_image = convolve(image, smoothing_filter)\n",
    "plt.imshow(smooth_image)"
   ]
  },
  {
   "cell_type": "markdown",
   "metadata": {},
   "source": [
    "## Scipy example fitting curve"
   ]
  },
  {
   "cell_type": "code",
   "execution_count": 112,
   "metadata": {},
   "outputs": [
    {
     "data": {
      "text/plain": [
       "array([0.49746777, 1.00495484])"
      ]
     },
     "execution_count": 112,
     "metadata": {},
     "output_type": "execute_result"
    },
    {
     "data": {
      "image/png": "[encoded data removed]",
      "text/plain": [
       "<Figure size 640x480 with 1 Axes>"
      ]
     },
     "metadata": {},
     "output_type": "display_data"
    }
   ],
   "source": [
    "from scipy.optimize import curve_fit\n",
    "\n",
    "def gaussian(x, sigma, mu):\n",
    "    return np.exp(-(x - mu)**2/(2*sigma**2))\n",
    "\n",
    "x = np.arange(-3, 3, 0.01)\n",
    "y = gaussian(x, sigma=0.5, mu=1) + np.random.randn(*x.shape) * 0.1\n",
    "plt.plot(x, y)\n",
    "\n",
    "param, _ = curve_fit(gaussian, x, y)\n",
    "param"
   ]
  }
 ],
 "metadata": {
  "kernelspec": {
   "display_name": "Python 3",
   "language": "python",
   "name": "python3"
  },
  "language_info": {
   "codemirror_mode": {
    "name": "ipython",
    "version": 3
   },
   "file_extension": ".py",
   "mimetype": "text/x-python",
   "name": "python",
   "nbconvert_exporter": "python",
   "pygments_lexer": "ipython3",
   "version": "3.11.2"
  }
 },
 "nbformat": 4,
 "nbformat_minor": 2
}
